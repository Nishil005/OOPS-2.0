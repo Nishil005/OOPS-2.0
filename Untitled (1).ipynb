{
 "cells": [
  {
   "cell_type": "markdown",
   "id": "7f795cf2-fdec-44cb-8112-44c6cc45aaaa",
   "metadata": {},
   "source": [
    "Q1. Explain Class and Object with respect to Object-Oriented Programming. Give a suitable example.\n",
    "In object-oriented programming (OOP), a class is a blueprint or template for creating objects. It defines the structure, behavior, and attributes that an object of that class will have. A class serves as a template for creating multiple objects with similar characteristics. It encapsulates data and methods that define the behavior and interactions of the objects.\n",
    "\n",
    "An object, on the other hand, is an instance of a class. It is a tangible entity created using the class blueprint. Each object has its own unique state (values of attributes) and can perform actions (methods) defined by the class. Objects interact with each other by sending messages (calling methods) and can have their own individual values for the attributes defined by the class."
   ]
  },
  {
   "cell_type": "code",
   "execution_count": 2,
   "id": "a15ea6d2-79a4-4927-89a9-036fc5a05194",
   "metadata": {},
   "outputs": [
    {
     "name": "stdout",
     "output_type": "stream",
     "text": [
      "Brand: Toyota\n",
      "Model: Camry\n",
      "Color: Silver\n",
      "Current Speed: 50 km/h\n",
      "Brand: Honda\n",
      "Model: Civic\n",
      "Color: Red\n",
      "Current Speed: 20 km/h\n"
     ]
    }
   ],
   "source": [
    "class Car:\n",
    "    def __init__(self, brand, model, color):\n",
    "        self.brand = brand\n",
    "        self.model = model\n",
    "        self.color = color\n",
    "        self.speed = 0\n",
    "\n",
    "    def accelerate(self, increment):\n",
    "        self.speed += increment\n",
    "\n",
    "    def brake(self, decrement):\n",
    "        self.speed -= decrement\n",
    "\n",
    "    def display_info(self):\n",
    "        print(f\"Brand: {self.brand}\")\n",
    "        print(f\"Model: {self.model}\")\n",
    "        print(f\"Color: {self.color}\")\n",
    "        print(f\"Current Speed: {self.speed} km/h\")\n",
    "\n",
    "\n",
    "# Creating objects of the Car class\n",
    "car1 = Car(\"Toyota\", \"Camry\", \"Silver\")\n",
    "car2 = Car(\"Honda\", \"Civic\", \"Red\")\n",
    "\n",
    "# Accessing attributes and methods of objects\n",
    "car1.accelerate(50)\n",
    "car1.display_info()\n",
    "\n",
    "car2.accelerate(30)\n",
    "car2.brake(10)\n",
    "car2.display_info()\n"
   ]
  },
  {
   "cell_type": "markdown",
   "id": "bb27ad36-158e-4f81-9c2f-cb509921202c",
   "metadata": {},
   "source": [
    "Q2. Name the four pillars of OOPs.\n",
    "1.Polymorphism\n",
    "2.Inheritance\n",
    "3.Encapsulation\n",
    "4.Abstraction"
   ]
  },
  {
   "cell_type": "markdown",
   "id": "88efc928-2799-4e9c-9b2b-5a2617c13a57",
   "metadata": {},
   "source": [
    "Q3. Explain why the __init__() function is used. Give a suitable example.\n",
    "The __init__() function is a special method in Python classes that is automatically called when an object is created from a class. It stands for \"initialize\" and is used to initialize the attributes of an object. The __init__() method allows you to specify the initial state of an object by assigning values to its attributes."
   ]
  },
  {
   "cell_type": "code",
   "execution_count": 6,
   "id": "cd2efd79-1c48-4ba6-b45e-bf6e5a0b0d7d",
   "metadata": {},
   "outputs": [
    {
     "name": "stdout",
     "output_type": "stream",
     "text": [
      "Name: Alice\n",
      "Age: 25\n",
      "Name: Bob\n",
      "Age: 30\n"
     ]
    }
   ],
   "source": [
    "class pwskills:\n",
    "    def __init__(self, name, age):\n",
    "        self.name = name\n",
    "        self.age = age\n",
    "\n",
    "    def display_info(self):\n",
    "        print(f\"Name: {self.name}\")\n",
    "        print(f\"Age: {self.age}\")\n",
    "\n",
    "pw = pwskills(\"Alice\", 25)\n",
    "pw1 = pwskills(\"Bob\", 30)\n",
    "\n",
    "pw.display_info()\n",
    "pw1.display_info()"
   ]
  },
  {
   "cell_type": "markdown",
   "id": "c49f0725-eec2-48cc-9fe7-4d047dde1dcc",
   "metadata": {},
   "source": [
    "Q4. Why self is used in OOPs?\n"
   ]
  },
  {
   "cell_type": "markdown",
   "id": "91939eb7-682d-45b0-b0d6-a6e5327909da",
   "metadata": {},
   "source": [
    "In object-oriented programming (OOP), the self parameter is used to refer to the instance of a class within its own methods. It is a convention in Python to name the first parameter of instance methods as self, although you can technically name it differently."
   ]
  },
  {
   "cell_type": "markdown",
   "id": "f1e224ee-77a9-405a-9462-a12daf9df366",
   "metadata": {},
   "source": [
    "Q5. What is inheritance? Give an example for each type of inheritance."
   ]
  },
  {
   "cell_type": "markdown",
   "id": "2a5a3e17-c5b0-4364-aeee-1ef118fa6dff",
   "metadata": {},
   "source": [
    "Inheritance is a fundamental concept in object-oriented programming (OOP) that allows a class to inherit properties and behaviors from another class. The class that is being inherited from is called the parent class, base class, or superclass, and the class that inherits is called the child class, derived class, or subclass. Inheritance promotes code reuse, enhances modularity, and allows for the creation of a hierarchical structure of classes.\n",
    "\n",
    "There are several types of inheritance in OOP:\n",
    "\n",
    "Single Inheritance:\n",
    "Single inheritance involves a child class inheriting properties and behaviors from a single parent class. The child class extends the parent class by adding its own specific features while inheriting the common attributes and methods from the parent.\n",
    "\n",
    "Example:"
   ]
  },
  {
   "cell_type": "code",
   "execution_count": 7,
   "id": "42869a8d-ac34-49eb-ad7f-670a3d3d76e9",
   "metadata": {},
   "outputs": [
    {
     "name": "stdout",
     "output_type": "stream",
     "text": [
      "Eating...\n",
      "Barking...\n"
     ]
    }
   ],
   "source": [
    "class Animal:\n",
    "    def eat(self):\n",
    "        print(\"Eating...\")\n",
    "\n",
    "class Dog(Animal):\n",
    "    def bark(self):\n",
    "        print(\"Barking...\")\n",
    "\n",
    "# Creating an object of the Dog class\n",
    "dog = Dog()\n",
    "dog.eat()  # Inherited from Animal\n",
    "dog.bark()  # Specific to Dog\n"
   ]
  },
  {
   "cell_type": "markdown",
   "id": "f3608981-50ec-475b-bff4-7ce7fd5dc1f2",
   "metadata": {},
   "source": [
    "Multiple Inheritance:\n",
    "Multiple inheritance involves a child class inheriting properties and behaviors from multiple parent classes. The child class combines features from multiple classes by inheriting attributes and methods from each parent class.\n",
    "\n",
    "Example:"
   ]
  },
  {
   "cell_type": "code",
   "execution_count": 8,
   "id": "03980068-417a-4657-8806-15ea5272f1bd",
   "metadata": {},
   "outputs": [
    {
     "name": "stdout",
     "output_type": "stream",
     "text": [
      "Method A\n",
      "Method B\n",
      "Method C\n"
     ]
    }
   ],
   "source": [
    "class A:\n",
    "    def method_A(self):\n",
    "        print(\"Method A\")\n",
    "\n",
    "class B:\n",
    "    def method_B(self):\n",
    "        print(\"Method B\")\n",
    "\n",
    "class C(A, B):\n",
    "    def method_C(self):\n",
    "        print(\"Method C\")\n",
    "\n",
    "# Creating an object of the C class\n",
    "c = C()\n",
    "c.method_A()  # Inherited from A\n",
    "c.method_B()  # Inherited from B\n",
    "c.method_C()  # Specific to C\n"
   ]
  },
  {
   "cell_type": "markdown",
   "id": "0c979c63-bb44-4b32-96d1-e4ea363c6759",
   "metadata": {},
   "source": [
    "Multilevel Inheritance:\n",
    "Multilevel inheritance involves a child class inheriting from a parent class, which in turn inherits from another parent class. It forms a chain of inheritance, where each subclass becomes the parent for the next subclass.\n",
    "\n",
    "Example:"
   ]
  },
  {
   "cell_type": "code",
   "execution_count": 9,
   "id": "4e3849f3-189d-4753-9de3-8ac754217947",
   "metadata": {},
   "outputs": [
    {
     "name": "stdout",
     "output_type": "stream",
     "text": [
      "Moving...\n",
      "Accelerating...\n",
      "Racing...\n"
     ]
    }
   ],
   "source": [
    "class Vehicle:\n",
    "    def move(self):\n",
    "        print(\"Moving...\")\n",
    "\n",
    "class Car(Vehicle):\n",
    "    def accelerate(self):\n",
    "        print(\"Accelerating...\")\n",
    "\n",
    "class SportsCar(Car):\n",
    "    def race(self):\n",
    "        print(\"Racing...\")\n",
    "\n",
    "# Creating an object of the SportsCar class\n",
    "sports_car = SportsCar()\n",
    "sports_car.move()  # Inherited from Vehicle\n",
    "sports_car.accelerate()  # Inherited from Car\n",
    "sports_car.race()  # Specific to SportsCar\n"
   ]
  },
  {
   "cell_type": "markdown",
   "id": "0a1982e7-25c5-45d5-82bc-2519b0ab73c5",
   "metadata": {},
   "source": [
    "Hierarchical Inheritance:\n",
    "Hierarchical inheritance involves multiple child classes inheriting from a single parent class. It allows for the creation of a hierarchical structure of classes with multiple levels of specialization.\n",
    "\n",
    "Example:"
   ]
  },
  {
   "cell_type": "code",
   "execution_count": 10,
   "id": "eb9300a7-a28e-4ff2-b13d-5d1166ba2aeb",
   "metadata": {},
   "outputs": [
    {
     "name": "stdout",
     "output_type": "stream",
     "text": [
      "Drawing circle...\n",
      "Drawing rectangle...\n"
     ]
    }
   ],
   "source": [
    "class Shape:\n",
    "    def draw(self):\n",
    "        print(\"Drawing shape...\")\n",
    "\n",
    "class Circle(Shape):\n",
    "    def draw(self):\n",
    "        print(\"Drawing circle...\")\n",
    "\n",
    "class Rectangle(Shape):\n",
    "    def draw(self):\n",
    "        print(\"Drawing rectangle...\")\n",
    "\n",
    "# Creating objects of the Circle and Rectangle classes\n",
    "circle = Circle()\n",
    "rectangle = Rectangle()\n",
    "\n",
    "circle.draw()  # Specific to Circle\n",
    "rectangle.draw()  # Specific to Rectangle\n"
   ]
  },
  {
   "cell_type": "code",
   "execution_count": null,
   "id": "ea4b4991-c9d8-4c0a-b560-fed1120d89f8",
   "metadata": {},
   "outputs": [],
   "source": []
  }
 ],
 "metadata": {
  "kernelspec": {
   "display_name": "Python 3 (ipykernel)",
   "language": "python",
   "name": "python3"
  },
  "language_info": {
   "codemirror_mode": {
    "name": "ipython",
    "version": 3
   },
   "file_extension": ".py",
   "mimetype": "text/x-python",
   "name": "python",
   "nbconvert_exporter": "python",
   "pygments_lexer": "ipython3",
   "version": "3.10.8"
  }
 },
 "nbformat": 4,
 "nbformat_minor": 5
}
